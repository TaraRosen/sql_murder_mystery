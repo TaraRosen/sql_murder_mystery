{
 "cells": [
  {
   "cell_type": "markdown",
   "metadata": {},
   "source": [
    "## SQL Murder Mystery\n",
    "### Can you find out whodunnit?\n",
    "#### http://mystery.knightlab.com/"
   ]
  },
  {
   "cell_type": "markdown",
   "metadata": {},
   "source": [
    "### Schema:"
   ]
  },
  {
   "cell_type": "markdown",
   "metadata": {},
   "source": [
    "<img src=\"murder_mystery_schema.png\">"
   ]
  },
  {
   "cell_type": "markdown",
   "metadata": {},
   "source": [
    "A crime has taken place and the detective needs your help. The detective gave you the crime scene report, but you somehow lost it. You vaguely remember that the crime was a ​murder​ that occurred sometime on ​Jan.15, 2018​ and that it took place in ​SQL City​. Start by retrieving the corresponding crime scene report from the police department’s database."
   ]
  },
  {
   "cell_type": "markdown",
   "metadata": {},
   "source": [
    "SELECT * FROM crime_scene_report\n",
    "WHERE date = 20180115\n",
    "AND city = 'SQL City'\n",
    "AND type = 'murder';"
   ]
  },
  {
   "cell_type": "markdown",
   "metadata": {},
   "source": [
    "\t\t\t\n",
    "date: 20180115\t <br/>\n",
    "type: murder  <br/>\n",
    "description: Security footage shows that there were 2 witnesses. The first witness lives at the last house on \"Northwestern Dr\". The second witness, named Annabel, lives somewhere on \"Franklin Ave\".\t <br/>\n",
    "city: SQL City"
   ]
  },
  {
   "cell_type": "code",
   "execution_count": null,
   "metadata": {},
   "outputs": [],
   "source": [
    "SELECT * FROM person\n",
    "WHERE address_street_name = 'Franklin Ave'\n",
    "AND name LIKE 'Annabel%';\n",
    "\n",
    "SELECT * FROM person\n",
    "WHERE address_street_name = 'Northwestern Dr'\n",
    "ORDER BY address_number DESC\n",
    "LIMIT 2;"
   ]
  },
  {
   "cell_type": "markdown",
   "metadata": {},
   "source": [
    "witnesses: <br/>\n",
    "id; name; license_id; address_number; address_street_name; ssn <br/>\n",
    "16371; Annabel Miller; 490173; 103 Franklin Ave; 318771143 <br/>\n",
    "14887; Morty Schapiro; 118009; 4919 Northwestern Dr; 111564949 <br/>"
   ]
  },
  {
   "cell_type": "code",
   "execution_count": null,
   "metadata": {},
   "outputs": [],
   "source": [
    "SELECT * FROM interview\n",
    "WHERE person_id = 16371\n",
    "OR person_id = 14887;"
   ]
  },
  {
   "cell_type": "markdown",
   "metadata": {},
   "source": [
    "person_id transcript <br/>\n",
    "14887 I heard a gunshot and then saw a man run out. He had a \"Get Fit Now Gym\" bag. The membership number on the bag started with \"48Z\". Only gold members have those bags. The man got into a car with a plate that included \"H42W\". <br/>\n",
    "16371 I saw the murder happen, and I recognized the killer from my gym when I was working out last week on January the 9th."
   ]
  },
  {
   "cell_type": "code",
   "execution_count": null,
   "metadata": {},
   "outputs": [],
   "source": [
    "SELECT * FROM drivers_license\n",
    "WHERE plate_number LIKE '%H42W%';"
   ]
  },
  {
   "cell_type": "markdown",
   "metadata": {},
   "source": [
    "id; age; height; eye_color; hair_color; gender; plate_number; car_make; car_model <br/>\n",
    "183779; 21; 65; blue; blonde; female; H42W0X; Toyota Prius  <br/>\n",
    "423327; 30; 70; brown; brown; male; 0H42W2; Chevrolet Spark LS  <br/>\n",
    "664760; 21; 71; black; black; male; 4H42WR; Nissan Altima"
   ]
  },
  {
   "cell_type": "code",
   "execution_count": null,
   "metadata": {},
   "outputs": [],
   "source": [
    "SELECT * FROM get_fit_now_check_in\n",
    "WHERE membership_id IN (SELECT id FROM get_fit_now_member\n",
    "WHERE person_id = 16371);"
   ]
  },
  {
   "cell_type": "markdown",
   "metadata": {},
   "source": [
    "membership_id; check_in_date; check_in_time; check_out_time <br/>\n",
    "90081;\t20180109;\t1600;\t1700"
   ]
  },
  {
   "cell_type": "code",
   "execution_count": null,
   "metadata": {},
   "outputs": [],
   "source": [
    "SELECT * FROM get_fit_now_check_in\n",
    "WHERE check_in_date = 20180109;"
   ]
  },
  {
   "cell_type": "markdown",
   "metadata": {},
   "source": [
    "membership_id; check_in_date; check_in_time; check_out_time <br/>\n",
    "48Z7A; 20180109; 1600; 1730 <br/>\n",
    "48Z55; 20180109; 1530; 1700"
   ]
  },
  {
   "cell_type": "code",
   "execution_count": null,
   "metadata": {},
   "outputs": [],
   "source": [
    "SELECT * FROM person\n",
    "WHERE id IN\n",
    "(SELECT person_id FROM get_fit_now_member\n",
    "WHERE id = '48Z7A'\n",
    "OR id = '48Z55');"
   ]
  },
  {
   "cell_type": "markdown",
   "metadata": {},
   "source": [
    "id; name; license_id; address_number; address_street_name; ssn <br/>\n",
    "28819; Joe Germuska; 173289; 111 Fisk Rd; 138909730 <br/>\n",
    "67318; Jeremy Bowers; 423327; 530 Washington Pl, Apt 3A; 871539279"
   ]
  },
  {
   "cell_type": "code",
   "execution_count": null,
   "metadata": {},
   "outputs": [],
   "source": [
    "SELECT * FROM drivers_license\n",
    "WHERE id = '173289'\n",
    "OR id = '423327';"
   ]
  },
  {
   "cell_type": "markdown",
   "metadata": {},
   "source": [
    "id; age; height; eye_color; hair_color; gender; plate_number; car_make; car_model <br/>\n",
    "423327; 30; 70; brown; brown; male; 0H42W2; Chevrolet Spark LS"
   ]
  },
  {
   "cell_type": "code",
   "execution_count": null,
   "metadata": {},
   "outputs": [],
   "source": [
    "##Did you find the killer?\n",
    "\n",
    "INSERT INTO solution VALUES (1, 'Insert the name of the person you found here');\n",
    "        SELECT value FROM solution;"
   ]
  },
  {
   "cell_type": "markdown",
   "metadata": {},
   "source": [
    "Jeremy Bowers <br/>\n",
    "\n",
    "Congrats, you found the murderer! But wait, there's more... If you think you're up for a challenge, try querying the interview transcript of the murderer to find the real villian behind this crime. If you feel especially confident in your SQL skills, try to complete this final step with no more than 2 queries. Use this same INSERT statement to check your answer.       "
   ]
  },
  {
   "cell_type": "code",
   "execution_count": null,
   "metadata": {},
   "outputs": [],
   "source": [
    "# Jeremy Bowers person_id = 67318\n",
    "\n",
    "SELECT * FROM interview\n",
    "WHERE person_id = 67318;"
   ]
  },
  {
   "cell_type": "markdown",
   "metadata": {},
   "source": [
    "person_id transcript <br/>\n",
    "67318 I was hired by a woman with a lot of money. I don't know her name but I know she's around 5'5\" (65\") or 5'7\" (67\"). She has red hair and she drives a Tesla Model S. I know that she attended the SQL Symphony Concert 3 times in December 2017."
   ]
  },
  {
   "cell_type": "code",
   "execution_count": null,
   "metadata": {},
   "outputs": [],
   "source": [
    "SELECT * FROM drivers_license\n",
    "WHERE height BETWEEN 65 and 67\n",
    "AND hair_color = 'red'\n",
    "AND car_make = 'Tesla';"
   ]
  },
  {
   "cell_type": "markdown",
   "metadata": {},
   "source": [
    "id; age; height; eye_color; hair_color; gender; plate_number; car_make; car_model <br/>\n",
    "202298; 68; 66; green; red; female; 500123; Tesla Model S <br/>\n",
    "291182; 65; 66; blue; red; female; 08CM64; Tesla Model S <br/>\n",
    "918773; 48; 65; black; red; female; 917UU3; Tesla Model S"
   ]
  },
  {
   "cell_type": "code",
   "execution_count": null,
   "metadata": {},
   "outputs": [],
   "source": [
    "SELECT * FROM person\n",
    "WHERE license_id IN (202298, 291182, 918773);"
   ]
  },
  {
   "cell_type": "markdown",
   "metadata": {},
   "source": [
    "id; name; license_id; address_number; address_street_name; ssn <br/>\n",
    "78881; Red Korb; 918773; 107 Camerata Dr; 961388910 <br/>\n",
    "90700; Regina George; 291182; 332 Maple Ave; 337169072 <br/>\n",
    "99716; Miranda Priestly; 202298; 1883 Golden Ave; 987756388"
   ]
  },
  {
   "cell_type": "code",
   "execution_count": null,
   "metadata": {},
   "outputs": [],
   "source": [
    "SELECT * FROM facebook_event_checkin\n",
    "WHERE person_id IN (78881, 90700, 99716)\n",
    "AND event_name = 'SQL Symphony Concert'\n",
    "AND date LIKE '201712%';"
   ]
  },
  {
   "cell_type": "markdown",
   "metadata": {},
   "source": [
    "person_id; event_id; event_name; date <br/>\n",
    "99716; 1143; SQL Symphony Concert; 20171206 <br/>\n",
    "99716; 1143; SQL Symphony Concert; 20171212 <br/>\n",
    "99716; 1143; SQL Symphony Concert; 20171229"
   ]
  },
  {
   "cell_type": "code",
   "execution_count": null,
   "metadata": {},
   "outputs": [],
   "source": [
    "SELECT * FROM person\n",
    "WHERE id = 99716;"
   ]
  },
  {
   "cell_type": "markdown",
   "metadata": {},
   "source": [
    "id; name; license_id; address_number; address_street_name; ssn <br/>\n",
    "99716; Miranda Priestly; 202298; 1883 Golden Ave; 987756388"
   ]
  },
  {
   "cell_type": "code",
   "execution_count": null,
   "metadata": {},
   "outputs": [],
   "source": [
    "##Did you find the killer?\n",
    "\n",
    "INSERT INTO solution VALUES (1, 'Insert the name of the person you found here');\n",
    "        SELECT value FROM solution;"
   ]
  },
  {
   "cell_type": "markdown",
   "metadata": {},
   "source": [
    "Miranda Priestly <br/>\n",
    "\n",
    "Congrats, you found the brains behind the murder! Everyone in SQL City hails you as the greatest SQL detective of all time. Time to break out the champagne!"
   ]
  },
  {
   "cell_type": "code",
   "execution_count": null,
   "metadata": {},
   "outputs": [],
   "source": [
    "SELECT * FROM income\n",
    "WHERE ssn = 987756388;"
   ]
  },
  {
   "cell_type": "markdown",
   "metadata": {},
   "source": [
    "ssn annual_income <br/>\n",
    "987756388 310000"
   ]
  }
 ],
 "metadata": {
  "kernelspec": {
   "display_name": "Python 3",
   "language": "python",
   "name": "python3"
  },
  "language_info": {
   "codemirror_mode": {
    "name": "ipython",
    "version": 3
   },
   "file_extension": ".py",
   "mimetype": "text/x-python",
   "name": "python",
   "nbconvert_exporter": "python",
   "pygments_lexer": "ipython3",
   "version": "3.7.4"
  }
 },
 "nbformat": 4,
 "nbformat_minor": 2
}
